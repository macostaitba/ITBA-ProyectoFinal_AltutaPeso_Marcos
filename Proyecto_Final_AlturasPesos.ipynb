{
 "cells": [
  {
   "cell_type": "markdown",
   "metadata": {},
   "source": [
    "Alturas y pesos de personas para estimar si es hombre o mujer"
   ]
  },
  {
   "cell_type": "code",
   "execution_count": 80,
   "metadata": {},
   "outputs": [],
   "source": [
    "import pandas as pd\n",
    "import numpy as np\n",
    "from helper import visualize_input, plot_images\n",
    "from matplotlib import pyplot as plt\n",
    "import warnings\n",
    "import numbers"
   ]
  },
  {
   "cell_type": "code",
   "execution_count": 81,
   "metadata": {},
   "outputs": [],
   "source": [
    "df = pd.read_csv('alturas-pesos.csv')"
   ]
  },
  {
   "cell_type": "code",
   "execution_count": 82,
   "metadata": {},
   "outputs": [
    {
     "name": "stdout",
     "output_type": "stream",
     "text": [
      "        Sexo  Peso  Altura\n",
      "0     Hombre   109     187\n",
      "1     Hombre    73     174\n",
      "2     Hombre    96     188\n",
      "3     Hombre    99     182\n",
      "4     Hombre    93     177\n",
      "5     Hombre    69     170\n",
      "6     Hombre    83     174\n",
      "7     Hombre    76     173\n",
      "8     Hombre    79     170\n",
      "9     Hombre    70     161\n",
      "10    Hombre    84     180\n",
      "11    Hombre    96     181\n",
      "12    Hombre    75     164\n",
      "13    Hombre    85     175\n",
      "14    Hombre    84     175\n",
      "15    Hombre    78     171\n",
      "16    Hombre    88     183\n",
      "17    Hombre    78     162\n",
      "18    Hombre    84     176\n",
      "19    Hombre    82     172\n",
      "20    Hombre    78     172\n",
      "21    Hombre    89     176\n",
      "22    Hombre    67     168\n",
      "23    Hombre   103     191\n",
      "24    Hombre    73     172\n",
      "25    Hombre    87     173\n",
      "26    Hombre    83     175\n",
      "27    Hombre    93     184\n",
      "28    Hombre    79     171\n",
      "29    Hombre    70     173\n",
      "...      ...   ...     ...\n",
      "9970   Mujer    68     166\n",
      "9971   Mujer    70     164\n",
      "9972   Mujer    55     154\n",
      "9973   Mujer    54     154\n",
      "9974   Mujer    64     166\n",
      "9975   Mujer    56     168\n",
      "9976   Mujer    55     156\n",
      "9977   Mujer    67     163\n",
      "9978   Mujer    51     145\n",
      "9979   Mujer    56     157\n",
      "9980   Mujer    50     153\n",
      "9981   Mujer    61     153\n",
      "9982   Mujer    80     177\n",
      "9983   Mujer    60     167\n",
      "9984   Mujer    50     149\n",
      "9985   Mujer    77     172\n",
      "9986   Mujer    64     160\n",
      "9987   Mujer    68     166\n",
      "9988   Mujer    54     151\n",
      "9989   Mujer    43     154\n",
      "9990   Mujer    64     160\n",
      "9991   Mujer    46     159\n",
      "9992   Mujer    62     157\n",
      "9993   Mujer    44     152\n",
      "9994   Mujer    50     150\n",
      "9995   Mujer    62     168\n",
      "9996   Mujer    77     170\n",
      "9997   Mujer    58     162\n",
      "9998   Mujer    74     175\n",
      "9999   Mujer    51     157\n",
      "\n",
      "[10000 rows x 3 columns]\n"
     ]
    }
   ],
   "source": [
    "print(df)"
   ]
  },
  {
   "cell_type": "code",
   "execution_count": 83,
   "metadata": {},
   "outputs": [
    {
     "data": {
      "text/plain": [
       "10000"
      ]
     },
     "execution_count": 83,
     "metadata": {},
     "output_type": "execute_result"
    }
   ],
   "source": [
    "len(df)"
   ]
  },
  {
   "cell_type": "code",
   "execution_count": 84,
   "metadata": {},
   "outputs": [
    {
     "data": {
      "text/plain": [
       "'Sexo'"
      ]
     },
     "execution_count": 84,
     "metadata": {},
     "output_type": "execute_result"
    }
   ],
   "source": [
    "max(df)"
   ]
  },
  {
   "cell_type": "code",
   "execution_count": 85,
   "metadata": {},
   "outputs": [
    {
     "data": {
      "text/plain": [
       "Hombre    5000\n",
       "Mujer     5000\n",
       "Name: Sexo, dtype: int64"
      ]
     },
     "execution_count": 85,
     "metadata": {},
     "output_type": "execute_result"
    }
   ],
   "source": [
    "pd.value_counts(df['Sexo'])"
   ]
  },
  {
   "cell_type": "code",
   "execution_count": 86,
   "metadata": {},
   "outputs": [
    {
     "data": {
      "text/plain": [
       "62     265\n",
       "64     247\n",
       "79     242\n",
       "63     237\n",
       "84     237\n",
       "82     237\n",
       "87     235\n",
       "60     235\n",
       "85     232\n",
       "59     231\n",
       "80     227\n",
       "61     226\n",
       "66     225\n",
       "65     225\n",
       "83     214\n",
       "58     212\n",
       "56     211\n",
       "73     207\n",
       "68     207\n",
       "67     204\n",
       "78     204\n",
       "76     202\n",
       "89     201\n",
       "88     201\n",
       "81     200\n",
       "74     199\n",
       "69     199\n",
       "75     197\n",
       "90     196\n",
       "71     194\n",
       "      ... \n",
       "45      40\n",
       "44      35\n",
       "103     31\n",
       "43      28\n",
       "102     24\n",
       "104     21\n",
       "41      20\n",
       "42      17\n",
       "105     15\n",
       "40      11\n",
       "109     10\n",
       "38       7\n",
       "107      7\n",
       "39       6\n",
       "108      5\n",
       "35       4\n",
       "106      4\n",
       "115      3\n",
       "113      3\n",
       "112      3\n",
       "111      2\n",
       "114      2\n",
       "37       2\n",
       "32       2\n",
       "122      1\n",
       "36       1\n",
       "116      1\n",
       "29       1\n",
       "110      1\n",
       "31       1\n",
       "Name: Peso, Length: 86, dtype: int64"
      ]
     },
     "execution_count": 86,
     "metadata": {},
     "output_type": "execute_result"
    }
   ],
   "source": [
    "pd.value_counts(df['Peso'])"
   ]
  },
  {
   "cell_type": "code",
   "execution_count": 87,
   "metadata": {},
   "outputs": [
    {
     "data": {
      "text/plain": [
       "165    385\n",
       "168    376\n",
       "162    364\n",
       "164    363\n",
       "172    357\n",
       "173    356\n",
       "171    354\n",
       "170    354\n",
       "175    342\n",
       "169    340\n",
       "167    334\n",
       "166    326\n",
       "163    325\n",
       "161    321\n",
       "176    315\n",
       "160    308\n",
       "159    303\n",
       "174    293\n",
       "157    275\n",
       "158    273\n",
       "177    273\n",
       "178    249\n",
       "156    236\n",
       "179    232\n",
       "180    224\n",
       "181    214\n",
       "154    188\n",
       "182    187\n",
       "155    179\n",
       "183    168\n",
       "      ... \n",
       "185     94\n",
       "151     86\n",
       "186     82\n",
       "187     70\n",
       "150     67\n",
       "188     61\n",
       "149     57\n",
       "148     49\n",
       "189     35\n",
       "147     30\n",
       "190     26\n",
       "146     25\n",
       "145     19\n",
       "191     18\n",
       "144     16\n",
       "194     15\n",
       "192     14\n",
       "193      9\n",
       "195      8\n",
       "142      8\n",
       "143      6\n",
       "141      4\n",
       "196      3\n",
       "199      3\n",
       "140      2\n",
       "138      1\n",
       "139      1\n",
       "137      1\n",
       "200      1\n",
       "198      1\n",
       "Name: Altura, Length: 63, dtype: int64"
      ]
     },
     "execution_count": 87,
     "metadata": {},
     "output_type": "execute_result"
    }
   ],
   "source": [
    "pd.value_counts(df['Altura'])"
   ]
  },
  {
   "cell_type": "code",
   "execution_count": 88,
   "metadata": {},
   "outputs": [
    {
     "data": {
      "text/plain": [
       "Hombre    50.0\n",
       "Mujer     50.0\n",
       "Name: Sexo, dtype: float64"
      ]
     },
     "execution_count": 88,
     "metadata": {},
     "output_type": "execute_result"
    }
   ],
   "source": [
    "100 * df['Sexo'].value_counts() / len(df['Sexo'])"
   ]
  },
  {
   "cell_type": "code",
   "execution_count": 89,
   "metadata": {},
   "outputs": [
    {
     "data": {
      "text/plain": [
       "165    3.85\n",
       "168    3.76\n",
       "162    3.64\n",
       "164    3.63\n",
       "172    3.57\n",
       "173    3.56\n",
       "171    3.54\n",
       "170    3.54\n",
       "175    3.42\n",
       "169    3.40\n",
       "167    3.34\n",
       "166    3.26\n",
       "163    3.25\n",
       "161    3.21\n",
       "176    3.15\n",
       "160    3.08\n",
       "159    3.03\n",
       "174    2.93\n",
       "157    2.75\n",
       "158    2.73\n",
       "177    2.73\n",
       "178    2.49\n",
       "156    2.36\n",
       "179    2.32\n",
       "180    2.24\n",
       "181    2.14\n",
       "154    1.88\n",
       "182    1.87\n",
       "155    1.79\n",
       "183    1.68\n",
       "       ... \n",
       "185    0.94\n",
       "151    0.86\n",
       "186    0.82\n",
       "187    0.70\n",
       "150    0.67\n",
       "188    0.61\n",
       "149    0.57\n",
       "148    0.49\n",
       "189    0.35\n",
       "147    0.30\n",
       "190    0.26\n",
       "146    0.25\n",
       "145    0.19\n",
       "191    0.18\n",
       "144    0.16\n",
       "194    0.15\n",
       "192    0.14\n",
       "193    0.09\n",
       "195    0.08\n",
       "142    0.08\n",
       "143    0.06\n",
       "141    0.04\n",
       "196    0.03\n",
       "199    0.03\n",
       "140    0.02\n",
       "138    0.01\n",
       "139    0.01\n",
       "137    0.01\n",
       "200    0.01\n",
       "198    0.01\n",
       "Name: Altura, Length: 63, dtype: float64"
      ]
     },
     "execution_count": 89,
     "metadata": {},
     "output_type": "execute_result"
    }
   ],
   "source": [
    "100 * df['Altura'].value_counts() / len(df['Altura'])"
   ]
  },
  {
   "cell_type": "code",
   "execution_count": 90,
   "metadata": {},
   "outputs": [
    {
     "data": {
      "text/plain": [
       "62     2.65\n",
       "64     2.47\n",
       "79     2.42\n",
       "63     2.37\n",
       "84     2.37\n",
       "82     2.37\n",
       "87     2.35\n",
       "60     2.35\n",
       "85     2.32\n",
       "59     2.31\n",
       "80     2.27\n",
       "61     2.26\n",
       "66     2.25\n",
       "65     2.25\n",
       "83     2.14\n",
       "58     2.12\n",
       "56     2.11\n",
       "73     2.07\n",
       "68     2.07\n",
       "67     2.04\n",
       "78     2.04\n",
       "76     2.02\n",
       "89     2.01\n",
       "88     2.01\n",
       "81     2.00\n",
       "74     1.99\n",
       "69     1.99\n",
       "75     1.97\n",
       "90     1.96\n",
       "71     1.94\n",
       "       ... \n",
       "45     0.40\n",
       "44     0.35\n",
       "103    0.31\n",
       "43     0.28\n",
       "102    0.24\n",
       "104    0.21\n",
       "41     0.20\n",
       "42     0.17\n",
       "105    0.15\n",
       "40     0.11\n",
       "109    0.10\n",
       "38     0.07\n",
       "107    0.07\n",
       "39     0.06\n",
       "108    0.05\n",
       "35     0.04\n",
       "106    0.04\n",
       "115    0.03\n",
       "113    0.03\n",
       "112    0.03\n",
       "111    0.02\n",
       "114    0.02\n",
       "37     0.02\n",
       "32     0.02\n",
       "122    0.01\n",
       "36     0.01\n",
       "116    0.01\n",
       "29     0.01\n",
       "110    0.01\n",
       "31     0.01\n",
       "Name: Peso, Length: 86, dtype: float64"
      ]
     },
     "execution_count": 90,
     "metadata": {},
     "output_type": "execute_result"
    }
   ],
   "source": [
    "100 * df['Peso'].value_counts() / len(df['Peso'])"
   ]
  },
  {
   "cell_type": "code",
   "execution_count": 91,
   "metadata": {},
   "outputs": [
    {
     "data": {
      "image/png": "[encoded data removed]",
      "text/plain": [
       "<matplotlib.figure.Figure at 0x7f5b475f9a90>"
      ]
     },
     "metadata": {},
     "output_type": "display_data"
    }
   ],
   "source": [
    "# Gráfico \n",
    "plot = df['Sexo'].value_counts().plot(kind='bar',\n",
    "                                            title='Sexo')"
   ]
  },
  {
   "cell_type": "code",
   "execution_count": 92,
   "metadata": {},
   "outputs": [],
   "source": [
    "from matplotlib import pyplot as plt"
   ]
  },
  {
   "cell_type": "code",
   "execution_count": 93,
   "metadata": {},
   "outputs": [],
   "source": [
    "pesos = df['Peso'].value_counts().index"
   ]
  },
  {
   "cell_type": "code",
   "execution_count": 94,
   "metadata": {},
   "outputs": [],
   "source": [
    "frecuencias = df['Peso'].value_counts().values"
   ]
  },
  {
   "cell_type": "code",
   "execution_count": 95,
   "metadata": {},
   "outputs": [
    {
     "data": {
      "image/png": "[encoded data removed]",
      "text/plain": [
       "<matplotlib.figure.Figure at 0x7f5b47704e10>"
      ]
     },
     "metadata": {},
     "output_type": "display_data"
    }
   ],
   "source": [
    "# Gráfico \n",
    "indices = np.argsort(pesos)\n",
    "plt.bar(pesos[indices], frecuencias[indices])\n",
    "plt.show()"
   ]
  },
  {
   "cell_type": "code",
   "execution_count": 96,
   "metadata": {},
   "outputs": [
    {
     "data": {
      "text/html": [
       "<div>\n",
       "<style scoped>\n",
       "    .dataframe tbody tr th:only-of-type {\n",
       "        vertical-align: middle;\n",
       "    }\n",
       "\n",
       "    .dataframe tbody tr th {\n",
       "        vertical-align: top;\n",
       "    }\n",
       "\n",
       "    .dataframe thead th {\n",
       "        text-align: right;\n",
       "    }\n",
       "</style>\n",
       "<table border=\"1\" class=\"dataframe\">\n",
       "  <thead>\n",
       "    <tr style=\"text-align: right;\">\n",
       "      <th></th>\n",
       "      <th>Sexo</th>\n",
       "      <th>Peso</th>\n",
       "      <th>Altura</th>\n",
       "    </tr>\n",
       "  </thead>\n",
       "  <tbody>\n",
       "    <tr>\n",
       "      <th>0</th>\n",
       "      <td>Hombre</td>\n",
       "      <td>109</td>\n",
       "      <td>187</td>\n",
       "    </tr>\n",
       "    <tr>\n",
       "      <th>1</th>\n",
       "      <td>Hombre</td>\n",
       "      <td>73</td>\n",
       "      <td>174</td>\n",
       "    </tr>\n",
       "    <tr>\n",
       "      <th>2</th>\n",
       "      <td>Hombre</td>\n",
       "      <td>96</td>\n",
       "      <td>188</td>\n",
       "    </tr>\n",
       "    <tr>\n",
       "      <th>3</th>\n",
       "      <td>Hombre</td>\n",
       "      <td>99</td>\n",
       "      <td>182</td>\n",
       "    </tr>\n",
       "    <tr>\n",
       "      <th>4</th>\n",
       "      <td>Hombre</td>\n",
       "      <td>93</td>\n",
       "      <td>177</td>\n",
       "    </tr>\n",
       "  </tbody>\n",
       "</table>\n",
       "</div>"
      ],
      "text/plain": [
       "     Sexo  Peso  Altura\n",
       "0  Hombre   109     187\n",
       "1  Hombre    73     174\n",
       "2  Hombre    96     188\n",
       "3  Hombre    99     182\n",
       "4  Hombre    93     177"
      ]
     },
     "execution_count": 96,
     "metadata": {},
     "output_type": "execute_result"
    }
   ],
   "source": [
    "df.head()"
   ]
  },
  {
   "cell_type": "code",
   "execution_count": 97,
   "metadata": {},
   "outputs": [
    {
     "data": {
      "text/plain": [
       "Peso       72.7339\n",
       "Altura    168.0733\n",
       "dtype: float64"
      ]
     },
     "execution_count": 97,
     "metadata": {},
     "output_type": "execute_result"
    }
   ],
   "source": [
    "df.mean()"
   ]
  },
  {
   "cell_type": "code",
   "execution_count": 98,
   "metadata": {},
   "outputs": [
    {
     "data": {
      "text/plain": [
       "Peso      212.349126\n",
       "Altura     95.555883\n",
       "dtype: float64"
      ]
     },
     "execution_count": 98,
     "metadata": {},
     "output_type": "execute_result"
    }
   ],
   "source": [
    "df.var()"
   ]
  },
  {
   "cell_type": "code",
   "execution_count": 99,
   "metadata": {},
   "outputs": [
    {
     "data": {
      "text/plain": [
       "Peso      14.572204\n",
       "Altura     9.775269\n",
       "dtype: float64"
      ]
     },
     "execution_count": 99,
     "metadata": {},
     "output_type": "execute_result"
    }
   ],
   "source": [
    "df.std()"
   ]
  },
  {
   "cell_type": "code",
   "execution_count": 100,
   "metadata": {},
   "outputs": [],
   "source": [
    "import numpy as np  # Librería para aplicar álgebra lineal\n",
    "import pandas as pd # Para manejar los datos (datasets)\n",
    "\n",
    "import matplotlib.pyplot as plt # Para las visualizaciones\n",
    "import seaborn as sns # Visualizaciones más fancy\n",
    "\n",
    "#from sklearn import preprocessing # Para el procesador de los datos\n",
    "from sklearn.preprocessing import Imputer # Para adoptar una estrategia para los missing values\n",
    "from sklearn.preprocessing import LabelEncoder as Codificar # Para codificar variables categóricas\n",
    "from sklearn.preprocessing import OneHotEncoder # Para pasar el LaberEncoder vector a OneHot matriz\n",
    "from sklearn.preprocessing import MinMaxScaler # Para realizar el escalado en escala (0-1)\n",
    "from sklearn.model_selection import train_test_split as Separar # Para dividir en los 2 conjuntos\n",
    "from statsmodels.tools.eval_measures import rmse # Para calcular el error\n",
    "from sklearn.metrics import confusion_matrix as CM # Para construir la matriz de confusión\n",
    "from matplotlib.colors import ListedColormap as Colors # Para pintar las regiones en Clasificación"
   ]
  },
  {
   "cell_type": "code",
   "execution_count": 101,
   "metadata": {},
   "outputs": [
    {
     "name": "stdout",
     "output_type": "stream",
     "text": [
      "x_train:  (7000,)\n",
      "x_test:  (3000,)\n",
      "y_train:  (7000,)\n",
      "y_test:  (3000,)\n"
     ]
    }
   ],
   "source": [
    "# 3. Crear los conjuntos\n",
    "# 3.1. Crear variables predictoras y variable respuesta\n",
    "x = df['Altura']\n",
    "y = df['Peso']\n",
    "# 3.2. Utilizar el Separador\n",
    "x_train, x_test, y_train, y_test = Separar(x, y, test_size=0.3)\n",
    "print('x_train: ', x_train.shape)\n",
    "print('x_test: ', x_test.shape)\n",
    "print('y_train: ', y_train.shape)\n",
    "print('y_test: ', y_test.shape)"
   ]
  },
  {
   "cell_type": "code",
   "execution_count": 102,
   "metadata": {},
   "outputs": [],
   "source": [
    "x=df['Altura']\n",
    "y=df['Peso']"
   ]
  },
  {
   "cell_type": "code",
   "execution_count": 103,
   "metadata": {},
   "outputs": [],
   "source": [
    "#X siempre queremos que sea una matriz, por tanto para los casos en los que es solo una variable, tenemos que aplicar un reshape para decirle a Python que esto no es un vector, sino que es una matrix de 1 sola columna\n"
   ]
  },
  {
   "cell_type": "code",
   "execution_count": 104,
   "metadata": {},
   "outputs": [
    {
     "name": "stdout",
     "output_type": "stream",
     "text": [
      "x_train:  (7000, 1)\n",
      "x_test:  (3000, 1)\n"
     ]
    }
   ],
   "source": [
    "x_train = x_train.values.reshape(-1,1)\n",
    "x_test = x_test.values.reshape(-1,1)\n",
    "print('x_train: ', x_train.shape)\n",
    "print('x_test: ', x_test.shape)"
   ]
  },
  {
   "cell_type": "code",
   "execution_count": 105,
   "metadata": {},
   "outputs": [
    {
     "data": {
      "text/plain": [
       "LinearRegression(copy_X=True, fit_intercept=True, n_jobs=1, normalize=False)"
      ]
     },
     "execution_count": 105,
     "metadata": {},
     "output_type": "execute_result"
    }
   ],
   "source": [
    "# 5. Construcción del modelo\n",
    "from sklearn.linear_model import LinearRegression as LR\n",
    "regresor_lineal = LR()\n",
    "regresor_lineal.fit(x_train, y_train)"
   ]
  },
  {
   "cell_type": "code",
   "execution_count": 106,
   "metadata": {},
   "outputs": [],
   "source": [
    "# 6. Hacer las predicciones\n",
    "y_fit  = regresor_lineal.predict(x_train)\n",
    "y_pred = regresor_lineal.predict(x_test)"
   ]
  },
  {
   "cell_type": "code",
   "execution_count": 107,
   "metadata": {},
   "outputs": [
    {
     "data": {
      "text/plain": [
       "[]"
      ]
     },
     "execution_count": 107,
     "metadata": {},
     "output_type": "execute_result"
    },
    {
     "data": {
      "image/png": "[encoded data removed]",
      "text/plain": [
       "<matplotlib.figure.Figure at 0x7f5b47728ef0>"
      ]
     },
     "metadata": {},
     "output_type": "display_data"
    }
   ],
   "source": [
    "# 7. Analizar los resultados\n",
    "\n",
    "# 7.1. Gráfico\n",
    "# 7.1.1. Para el conjunto de entrenamiento\n",
    "plt.figure()\n",
    "plt.scatter(x_train, y_train, color='red')\n",
    "plt.plot(x_train, y_fit, color='blue')\n",
    "plt.title('Regresión Linear (Conjunto entrenamieto)')\n",
    "plt.xlabel('Altura')\n",
    "plt.ylabel('Peso')\n",
    "plt.plot()"
   ]
  },
  {
   "cell_type": "code",
   "execution_count": 108,
   "metadata": {},
   "outputs": [
    {
     "data": {
      "text/plain": [
       "[]"
      ]
     },
     "execution_count": 108,
     "metadata": {},
     "output_type": "execute_result"
    },
    {
     "data": {
      "image/png": "[encoded data removed]",
      "text/plain": [
       "<matplotlib.figure.Figure at 0x7f5b479c0470>"
      ]
     },
     "metadata": {},
     "output_type": "display_data"
    }
   ],
   "source": [
    "# 7.1.2. Para el conjunto de test\n",
    "plt.figure()\n",
    "plt.scatter(x_test, y_test, color='red')\n",
    "plt.plot(x_test, y_pred, color='blue')\n",
    "plt.title('Regresión Linear (Conjunto test)')\n",
    "plt.xlabel('ALtura')\n",
    "plt.ylabel('Peso')\n",
    "plt.plot()"
   ]
  },
  {
   "cell_type": "code",
   "execution_count": 109,
   "metadata": {},
   "outputs": [
    {
     "name": "stdout",
     "output_type": "stream",
     "text": [
      "RMSE:  0.0018597749591263075\n"
     ]
    }
   ],
   "source": [
    "# 7.2. Error - RMSE Y = Peso\n",
    "RMSE = np.sum(rmse(y_test, y_pred))/len(y_test)\n",
    "print('RMSE: ', RMSE)"
   ]
  },
  {
   "cell_type": "code",
   "execution_count": 110,
   "metadata": {},
   "outputs": [],
   "source": [
    "# 3. Crear los conjuntos\n",
    "# 3.1. Crear variables predictoras y variable respuesta\n",
    "x = df[['Peso', 'Altura']].values\n",
    "y = df['Sexo'].values\n",
    "# 3.2. Utilizar el Separador\n",
    "x_train, x_test, y_train, y_test = Separar(x, y, test_size=0.30)"
   ]
  },
  {
   "cell_type": "code",
   "execution_count": 113,
   "metadata": {},
   "outputs": [
    {
     "name": "stderr",
     "output_type": "stream",
     "text": [
      "/opt/anaconda3/lib/python3.6/site-packages/sklearn/utils/validation.py:475: DataConversionWarning: Data with input dtype int64 was converted to float64 by MinMaxScaler.\n",
      "  warnings.warn(msg, DataConversionWarning)\n"
     ]
    }
   ],
   "source": [
    "# 4. Escalar\n",
    "escalador = MinMaxScaler()\n",
    "sc_x_train = escalador.fit_transform(x_train)\n",
    "sc_x_test  = escalador.transform(x_test)\n"
   ]
  },
  {
   "cell_type": "code",
   "execution_count": 114,
   "metadata": {},
   "outputs": [
    {
     "name": "stdout",
     "output_type": "stream",
     "text": [
      "[[0.72043011 0.66666667]\n",
      " [0.22580645 0.28571429]\n",
      " [0.64516129 0.63492063]\n",
      " ...\n",
      " [0.33333333 0.3968254 ]\n",
      " [0.40860215 0.31746032]\n",
      " [0.4516129  0.47619048]]\n"
     ]
    }
   ],
   "source": [
    "print(sc_x_train)"
   ]
  },
  {
   "cell_type": "code",
   "execution_count": 115,
   "metadata": {},
   "outputs": [
    {
     "name": "stdout",
     "output_type": "stream",
     "text": [
      "[[0.72043011 0.68253968]\n",
      " [0.76344086 0.84126984]\n",
      " [0.8172043  0.87301587]\n",
      " ...\n",
      " [0.22580645 0.3015873 ]\n",
      " [0.52688172 0.55555556]\n",
      " [0.52688172 0.55555556]]\n"
     ]
    }
   ],
   "source": [
    "print(sc_x_test)"
   ]
  },
  {
   "cell_type": "code",
   "execution_count": 116,
   "metadata": {},
   "outputs": [
    {
     "data": {
      "text/plain": [
       "GaussianNB(priors=None)"
      ]
     },
     "execution_count": 116,
     "metadata": {},
     "output_type": "execute_result"
    }
   ],
   "source": [
    "# 5. Construir y ajustar el modelo\n",
    "from sklearn.naive_bayes import GaussianNB as Bayesiano\n",
    "clasificador_bayes = Bayesiano()\n",
    "clasificador_bayes.fit(sc_x_train, y_train)"
   ]
  },
  {
   "cell_type": "code",
   "execution_count": 134,
   "metadata": {},
   "outputs": [
    {
     "name": "stdout",
     "output_type": "stream",
     "text": [
      "['Hombre' 'Hombre' 'Hombre' ... 'Mujer' 'Hombre' 'Hombre']\n"
     ]
    }
   ],
   "source": [
    "# 6. Hacer las prediciones\n",
    "#dato=[[69,172]]\n",
    "#dato=escalador.transform(dato)\n",
    "#print(dato)\n",
    "#y_pred = clasificador_bayes.predict(dato)\n",
    "y_pred = clasificador_bayes.predict(sc_x_test)\n",
    "print(y_pred)"
   ]
  },
  {
   "cell_type": "code",
   "execution_count": 136,
   "metadata": {},
   "outputs": [
    {
     "data": {
      "image/png": "[encoded data removed]",
      "text/plain": [
       "<matplotlib.figure.Figure at 0x7f5b3a6eafd0>"
      ]
     },
     "metadata": {},
     "output_type": "display_data"
    }
   ],
   "source": [
    "# 7. Analizar los resultados\n",
    "\n",
    "# 7.1. Matrix de Confusión\n",
    "cm = CM(y_test, y_pred)\n",
    "\n",
    "# 7.2.1 Gráfico de regiones y clasifiación (Conjunto de entrenamiento)\n",
    "x_set, y_set = x_train, y_train\n",
    "\n",
    "for i,j in enumerate(np.unique(y_set)):\n",
    "    plt.scatter(x_set[y_set == j, 0], x_set[y_set == j, 1],\n",
    "               c = Colors(('red', 'green'))(i), label = j, s=10)\n",
    "plt.title('Clasificación Naive Bayes (Conjunto de entrenamiento)')\n",
    "plt.xlabel('Altura')\n",
    "plt.ylabel('Peso')\n",
    "plt.show()"
   ]
  },
  {
   "cell_type": "code",
   "execution_count": 54,
   "metadata": {},
   "outputs": [
    {
     "data": {
      "image/png": "[encoded data removed]",
      "text/plain": [
       "<Figure size 432x288 with 1 Axes>"
      ]
     },
     "metadata": {},
     "output_type": "display_data"
    }
   ],
   "source": [
    "# 7.2.2.2. Pintamos las predicciones\n",
    "for i,j in enumerate(np.unique(y_set)):\n",
    "    plt.scatter(x_train[y_train == j, 0], x_train[y_train == j, 1],\n",
    "               c = Colors(('red', 'green'))(i), label = j, s=10)\n",
    "plt.title('Clasificación Naive Bayes (Conjunto de validación)')\n",
    "plt.xlabel('Altura')\n",
    "plt.ylabel('Peso')\n",
    "plt.show()\n"
   ]
  },
  {
   "cell_type": "code",
   "execution_count": null,
   "metadata": {},
   "outputs": [],
   "source": []
  },
  {
   "cell_type": "code",
   "execution_count": null,
   "metadata": {},
   "outputs": [],
   "source": []
  }
 ],
 "metadata": {
  "kernelspec": {
   "display_name": "Python 3",
   "language": "python",
   "name": "python3"
  },
  "language_info": {
   "codemirror_mode": {
    "name": "ipython",
    "version": 3
   },
   "file_extension": ".py",
   "mimetype": "text/x-python",
   "name": "python",
   "nbconvert_exporter": "python",
   "pygments_lexer": "ipython3",
   "version": "3.6.5"
  }
 },
 "nbformat": 4,
 "nbformat_minor": 2
}
